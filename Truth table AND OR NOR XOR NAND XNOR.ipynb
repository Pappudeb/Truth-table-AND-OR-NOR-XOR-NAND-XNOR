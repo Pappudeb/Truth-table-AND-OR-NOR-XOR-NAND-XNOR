{
 "cells": [
  {
   "cell_type": "markdown",
   "id": "3f3751b3",
   "metadata": {},
   "source": [
    "### XNOR"
   ]
  },
  {
   "cell_type": "code",
   "execution_count": 3,
   "id": "83e7018d",
   "metadata": {},
   "outputs": [],
   "source": [
    "import itertools"
   ]
  },
  {
   "cell_type": "markdown",
   "id": "4c403f65",
   "metadata": {},
   "source": [
    "Hader for the truth table"
   ]
  },
  {
   "cell_type": "code",
   "execution_count": 4,
   "id": "f82963c1",
   "metadata": {},
   "outputs": [
    {
     "name": "stdout",
     "output_type": "stream",
     "text": [
      "The truth table fr XNORgate is:\n",
      "A\tB\tResult\n"
     ]
    }
   ],
   "source": [
    "print(\"The truth table fr XNORgate is:\")\n",
    "print(\"A\\tB\\tResult\")"
   ]
  },
  {
   "cell_type": "markdown",
   "id": "b1adb2cc",
   "metadata": {},
   "source": [
    "Generate all possible input combinations (True or False)"
   ]
  },
  {
   "cell_type": "code",
   "execution_count": 7,
   "id": "c8d1e6e0",
   "metadata": {},
   "outputs": [],
   "source": [
    "input_comb = list(itertools.product([True,False],repeat=2))"
   ]
  },
  {
   "cell_type": "markdown",
   "id": "c7fc5647",
   "metadata": {},
   "source": [
    "### Evaluate and print the truth table for the XNOR gate"
   ]
  },
  {
   "cell_type": "code",
   "execution_count": 8,
   "id": "1628464a",
   "metadata": {},
   "outputs": [
    {
     "name": "stdout",
     "output_type": "stream",
     "text": [
      "1\t1\t1\n",
      "1\t0\t0\n",
      "0\t1\t0\n",
      "0\t0\t1\n"
     ]
    }
   ],
   "source": [
    "for combination in input_comb:\n",
    "    A,B = combination\n",
    "    result = not(A^B) #XNOR operation\n",
    "    print(f\"{int(A)}\\t{int(B)}\\t{int(result)}\")"
   ]
  },
  {
   "cell_type": "markdown",
   "id": "09657055",
   "metadata": {},
   "source": [
    "Truth table for XOR"
   ]
  },
  {
   "cell_type": "code",
   "execution_count": 11,
   "id": "55f1451c",
   "metadata": {},
   "outputs": [
    {
     "name": "stdout",
     "output_type": "stream",
     "text": [
      "The truth table fr XOR gate is:\n",
      "A\tB\tResult\n",
      "1\t1\t0\n",
      "1\t0\t1\n",
      "0\t1\t1\n",
      "0\t0\t0\n"
     ]
    }
   ],
   "source": [
    "print(\"The truth table fr XOR gate is:\")\n",
    "print(\"A\\tB\\tResult\")\n",
    "\n",
    "### Generate all possible input combinations (True or False)\n",
    "for combination in input_comb:\n",
    "    A,B = combination\n",
    "    result = A^B #XOR operation\n",
    "    print(f\"{int(A)}\\t{int(B)}\\t{int(result)}\")\n",
    "\n"
   ]
  },
  {
   "cell_type": "markdown",
   "id": "656436f3",
   "metadata": {},
   "source": [
    "Truth table for OR gate"
   ]
  },
  {
   "cell_type": "code",
   "execution_count": 12,
   "id": "c453c90e",
   "metadata": {},
   "outputs": [
    {
     "name": "stdout",
     "output_type": "stream",
     "text": [
      "The truth table fr OR gate is:\n",
      "A\tB\tResult\n",
      "1\t1\t1\n",
      "1\t0\t1\n",
      "0\t1\t1\n",
      "0\t0\t0\n"
     ]
    }
   ],
   "source": [
    "print(\"The truth table fr OR gate is:\")\n",
    "print(\"A\\tB\\tResult\")\n",
    "\n",
    "### Generate all possible input combinations (True or False)\n",
    "for combination in input_comb:\n",
    "    A,B = combination\n",
    "    result = (A or B) #OR operation\n",
    "    print(f\"{int(A)}\\t{int(B)}\\t{int(result)}\")"
   ]
  },
  {
   "cell_type": "markdown",
   "id": "f711e152",
   "metadata": {},
   "source": [
    "Truth table for NOR gate"
   ]
  },
  {
   "cell_type": "code",
   "execution_count": 13,
   "id": "eace8f02",
   "metadata": {},
   "outputs": [
    {
     "name": "stdout",
     "output_type": "stream",
     "text": [
      "The truth table fr NOR gate is:\n",
      "A\tB\tResult\n",
      "1\t1\t0\n",
      "1\t0\t0\n",
      "0\t1\t0\n",
      "0\t0\t1\n"
     ]
    }
   ],
   "source": [
    "print(\"The truth table fr NOR gate is:\")\n",
    "print(\"A\\tB\\tResult\")\n",
    "\n",
    "### Generate all possible input combinations (True or False)\n",
    "for combination in input_comb:\n",
    "    A,B = combination\n",
    "    result = not(A or B) #NOR operation\n",
    "    print(f\"{int(A)}\\t{int(B)}\\t{int(result)}\")"
   ]
  },
  {
   "cell_type": "markdown",
   "id": "46f3889b",
   "metadata": {},
   "source": [
    "Truth table for NAND gate"
   ]
  },
  {
   "cell_type": "code",
   "execution_count": 14,
   "id": "b3ad8828",
   "metadata": {},
   "outputs": [
    {
     "name": "stdout",
     "output_type": "stream",
     "text": [
      "The truth table fr NAND gate is:\n",
      "A\tB\tResult\n",
      "1\t1\t0\n",
      "1\t0\t1\n",
      "0\t1\t1\n",
      "0\t0\t1\n"
     ]
    }
   ],
   "source": [
    "print(\"The truth table fr NAND gate is:\")\n",
    "print(\"A\\tB\\tResult\")\n",
    "\n",
    "### Generate all possible input combinations (True or False)\n",
    "for combination in input_comb:\n",
    "    A,B = combination\n",
    "    result = not(A and B) #NAND operation\n",
    "    print(f\"{int(A)}\\t{int(B)}\\t{int(result)}\")"
   ]
  },
  {
   "cell_type": "markdown",
   "id": "c2e481ca",
   "metadata": {},
   "source": [
    "Truth table for AND gate"
   ]
  },
  {
   "cell_type": "code",
   "execution_count": 15,
   "id": "64a73756",
   "metadata": {},
   "outputs": [
    {
     "name": "stdout",
     "output_type": "stream",
     "text": [
      "The truth table fr AND gate is:\n",
      "A\tB\tResult\n",
      "1\t1\t1\n",
      "1\t0\t0\n",
      "0\t1\t0\n",
      "0\t0\t0\n"
     ]
    }
   ],
   "source": [
    "print(\"The truth table fr AND gate is:\")\n",
    "print(\"A\\tB\\tResult\")\n",
    "\n",
    "### Generate all possible input combinations (True or False)\n",
    "for combination in input_comb:\n",
    "    A,B = combination\n",
    "    result = (A and B) # AND operation\n",
    "    print(f\"{int(A)}\\t{int(B)}\\t{int(result)}\")"
   ]
  },
  {
   "cell_type": "code",
   "execution_count": null,
   "id": "06f4bc89",
   "metadata": {},
   "outputs": [],
   "source": []
  }
 ],
 "metadata": {
  "kernelspec": {
   "display_name": "Python 3 (ipykernel)",
   "language": "python",
   "name": "python3"
  },
  "language_info": {
   "codemirror_mode": {
    "name": "ipython",
    "version": 3
   },
   "file_extension": ".py",
   "mimetype": "text/x-python",
   "name": "python",
   "nbconvert_exporter": "python",
   "pygments_lexer": "ipython3",
   "version": "3.9.13"
  }
 },
 "nbformat": 4,
 "nbformat_minor": 5
}
